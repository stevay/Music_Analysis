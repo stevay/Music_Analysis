{
 "cells": [
  {
   "cell_type": "markdown",
   "metadata": {},
   "source": [
    "# Content-Based Recommendation\n",
    "\n",
    "Purpose of this jupyter notebook is to develop a recommendation model based on the data set we have on Billboard Hot 100 music between 1950 t0 2018.\n",
    "\n",
    "The approach is to use both NLP techniques (e.g. Word2Vec) and the unsupervised learning algorithm Nearest Neighbors to generate songs similar to each popular track in the dataset."
   ]
  },
  {
   "cell_type": "code",
   "execution_count": 3,
   "metadata": {},
   "outputs": [],
   "source": [
    "import os\n",
    "import sys\n",
    "import json\n",
    "from json.decoder import JSONDecodeError\n",
    "import webbrowser\n",
    "import spotipy\n",
    "import spotipy.util as util\n",
    "from pprint import pprint\n",
    "\n",
    "# visualization libraries\n",
    "import seaborn as sns  \n",
    "import matplotlib.pyplot as plt\n",
    "from matplotlib import style\n",
    "% matplotlib inline\n",
    "\n",
    "import pandas as pd\n",
    "import numpy as np\n",
    "\n",
    "import fuzzyset\n",
    "\n",
    "from collections import Counter\n",
    "\n",
    "from os import path\n",
    "from PIL import Image\n",
    "from wordcloud import WordCloud, STOPWORDS, ImageColorGenerator"
   ]
  },
  {
   "cell_type": "code",
   "execution_count": 4,
   "metadata": {},
   "outputs": [],
   "source": [
    "# load dataframe, without audio features, but no missing lyrics\n",
    "df_final_set = pd.read_pickle(\"data/billboard_tracks_1950_2018_FINAL_v2.pkl\")"
   ]
  },
  {
   "cell_type": "markdown",
   "metadata": {},
   "source": [
    "## prep stopwords and list of lyrics"
   ]
  },
  {
   "cell_type": "code",
   "execution_count": 5,
   "metadata": {},
   "outputs": [],
   "source": [
    "from sklearn.feature_extraction.text import CountVectorizer\n",
    "from sklearn.feature_extraction.stop_words import ENGLISH_STOP_WORDS\n",
    "from gensim.models import Word2Vec\n",
    "\n",
    "stop_words = ENGLISH_STOP_WORDS | {'?','!','.',',',':',';','oh oh','just',\"I'm\",'oh','it','Cause','na','la'}\n",
    "\n",
    "lyrics_list = list(df_final_set['lyrics']) # list of all 4000+ track lyrics\n",
    "lyrics_list = [i.replace('\\n',' ') for i in lyrics_list] # replace line breaks with whitespace\n",
    "\n",
    "lyrics_texts = [[word for word in document.lower().split() if word not in stop_words]\n",
    "        for document in lyrics_list]"
   ]
  },
  {
   "cell_type": "code",
   "execution_count": null,
   "metadata": {},
   "outputs": [],
   "source": []
  },
  {
   "cell_type": "code",
   "execution_count": null,
   "metadata": {},
   "outputs": [],
   "source": []
  },
  {
   "cell_type": "markdown",
   "metadata": {},
   "source": [
    "# Word2Vec"
   ]
  },
  {
   "cell_type": "code",
   "execution_count": null,
   "metadata": {},
   "outputs": [],
   "source": [
    "# train Word2Vec model on lyrics w/o stop words\n",
    "w2v_lyrics_model = Word2Vec(lyrics_texts, size=100, window=5, min_count=1, workers=4, sg=1)"
   ]
  },
  {
   "cell_type": "markdown",
   "metadata": {},
   "source": [
    "### Word Embeddings are useful because:\n",
    "\n",
    "- We can measure the semantic similarity between two words\n",
    "- We can use these word vectors as features for various NLP supervised learning tasks (such as classification, sentiment analysis).\n",
    "\n",
    "### some helpful Word2Vec functions below:"
   ]
  },
  {
   "cell_type": "code",
   "execution_count": null,
   "metadata": {},
   "outputs": [],
   "source": [
    "# print 7 items\n",
    "list(w2v_lyrics_model.wv.vocab.items())[:7]\n",
    "\n",
    "# print vectorized array of a specific word\n",
    "print (w2v_lyrics_model['hi'])\n",
    "\n",
    "# top 8 most similar word to 'hi'\n",
    "w2v_lyrics_model.most_similar('hi' ,topn=8)\n",
    "\n",
    "# similarity between two words\n",
    "w2v_lyrics_model.similarity('hi','bye')\n",
    "\n",
    "# Compute cosine_similarity\n",
    "w2v_lyrics_model.n_similarity(['hi', 'bye'], ['hi', 'lie'])"
   ]
  },
  {
   "cell_type": "markdown",
   "metadata": {},
   "source": [
    "### helper function to turn each song into a 100-dimensional vector"
   ]
  },
  {
   "cell_type": "code",
   "execution_count": null,
   "metadata": {},
   "outputs": [],
   "source": [
    "def avg_feature_vector(song, model, num_features):\n",
    "    \n",
    "    index2word_set= set(model.wv.index2word)\n",
    "    \n",
    "    words = song.split()\n",
    "    feature_vec = np.zeros((num_features, ), dtype='float32')\n",
    "    n_words = 0\n",
    "    \n",
    "    for word in words:\n",
    "        if word in index2word_set:\n",
    "            n_words += 1\n",
    "            feature_vec = np.add(feature_vec, model[word])\n",
    "    if (n_words > 0):\n",
    "        feature_vec = np.divide(feature_vec, n_words)\n",
    "    return feature_vec"
   ]
  },
  {
   "cell_type": "code",
   "execution_count": null,
   "metadata": {},
   "outputs": [],
   "source": [
    "#Initialize a list to store song vectors\n",
    "import numpy as np\n",
    "lyrics_vecs =[]\n",
    "\n",
    "# For each song - split words in lyrics and get the full vector (each song has 100 features)\n",
    "for song in lyrics_list:\n",
    "    vector = avg_feature_vector(song, model=w2v_lyrics_model, num_features=100)\n",
    "    lyrics_vecs.append(vector)"
   ]
  },
  {
   "cell_type": "code",
   "execution_count": null,
   "metadata": {},
   "outputs": [],
   "source": [
    "lyrics_vecs[0]"
   ]
  },
  {
   "cell_type": "markdown",
   "metadata": {},
   "source": [
    "### with 100-dimension vectors for all songs, fit into a NEAREST NEIGHBOR model that finds similar songs based on cosine similarities"
   ]
  },
  {
   "cell_type": "code",
   "execution_count": null,
   "metadata": {},
   "outputs": [],
   "source": [
    "from sklearn.neighbors import NearestNeighbors\n",
    "\n",
    "# turn list of lyric vectors into a numpy array\n",
    "lyrics_array = np.asarray(lyrics_vecs)\n",
    "\n",
    "# fit lyrics array into Nearest Neighbor model\n",
    "nn = NearestNeighbors(n_neighbors=5, metric='cosine', algorithm='brute',n_jobs = -1)\n",
    "nn.fit(lyrics_array)\n",
    "\n",
    "##Reshaping the vecs to fit in model\n",
    "lyrics_vec_T = []\n",
    "for vec in lyrics_array:\n",
    "    new_vec = vec.reshape(1,100)\n",
    "    lyrics_vec_T.append(new_vec)\n",
    "\n",
    "#List of closest neighbor of a given item, we are extracting the 1st index for each neighbor\n",
    "closest_song_ex = []\n",
    "for vec in lyrics_vec_T:\n",
    "    close_five = nn.kneighbors(X=vec)[1]\n",
    "    closest_song_ex.append(close_five)"
   ]
  },
  {
   "cell_type": "markdown",
   "metadata": {},
   "source": [
    "## PICKLE nearest neighbor list"
   ]
  },
  {
   "cell_type": "code",
   "execution_count": null,
   "metadata": {},
   "outputs": [],
   "source": [
    "import pickle\n",
    "\n",
    "with open('data/nn_list.pkl', 'wb') as f:\n",
    "    pickle.dump(closest_song_ex, f)"
   ]
  },
  {
   "cell_type": "markdown",
   "metadata": {},
   "source": [
    "## OPEN nearest neighbor list"
   ]
  },
  {
   "cell_type": "code",
   "execution_count": 17,
   "metadata": {},
   "outputs": [],
   "source": [
    "import pickle\n",
    "\n",
    "with open('data/nn_list.pkl', 'rb') as f:\n",
    "    closest_song_ex = pickle.load(f)"
   ]
  },
  {
   "cell_type": "markdown",
   "metadata": {},
   "source": [
    "### Similar tracks for the first five songs of the data set"
   ]
  },
  {
   "cell_type": "code",
   "execution_count": 29,
   "metadata": {},
   "outputs": [
    {
     "data": {
      "text/plain": [
       "[array([[   0, 1809, 4216, 2015, 3013]]),\n",
       " array([[   1, 2620, 2520, 2029, 1232]]),\n",
       " array([[  14,    2, 4229, 1379, 1344]]),\n",
       " array([[   3, 1520,   12, 2758, 1264]]),\n",
       " array([[1958, 4145, 2433, 2299,    4]])]"
      ]
     },
     "execution_count": 29,
     "metadata": {},
     "output_type": "execute_result"
    }
   ],
   "source": [
    "closest_song_ex[0:5]"
   ]
  },
  {
   "cell_type": "code",
   "execution_count": 21,
   "metadata": {},
   "outputs": [
    {
     "data": {
      "text/plain": [
       "array([1809, 4216, 2015, 3013])"
      ]
     },
     "execution_count": 21,
     "metadata": {},
     "output_type": "execute_result"
    }
   ],
   "source": [
    "closest_song_ex[0][0][1:] # four songs most similar to track index 0"
   ]
  },
  {
   "cell_type": "code",
   "execution_count": null,
   "metadata": {},
   "outputs": [],
   "source": []
  },
  {
   "cell_type": "code",
   "execution_count": 28,
   "metadata": {},
   "outputs": [
    {
     "data": {
      "text/plain": [
       "'https://i.scdn.co/image/602102500b9cebde7559a5f9c16daaaef2846440'"
      ]
     },
     "execution_count": 28,
     "metadata": {},
     "output_type": "execute_result"
    }
   ],
   "source": [
    "# pull url for an album (example)\n",
    "df_final_set.iloc[[4215,8,1130,4191],[14]].values[0][0]"
   ]
  },
  {
   "cell_type": "code",
   "execution_count": 32,
   "metadata": {},
   "outputs": [
    {
     "data": {
      "text/html": [
       "<div>\n",
       "<style scoped>\n",
       "    .dataframe tbody tr th:only-of-type {\n",
       "        vertical-align: middle;\n",
       "    }\n",
       "\n",
       "    .dataframe tbody tr th {\n",
       "        vertical-align: top;\n",
       "    }\n",
       "\n",
       "    .dataframe thead th {\n",
       "        text-align: right;\n",
       "    }\n",
       "</style>\n",
       "<table border=\"1\" class=\"dataframe\">\n",
       "  <thead>\n",
       "    <tr style=\"text-align: right;\">\n",
       "      <th></th>\n",
       "      <th>track_album_cover_art</th>\n",
       "      <th>track_preview_url</th>\n",
       "    </tr>\n",
       "  </thead>\n",
       "  <tbody>\n",
       "    <tr>\n",
       "      <th>4292</th>\n",
       "      <td>https://i.scdn.co/image/5026fddc6c0b69e931ae99...</td>\n",
       "      <td>https://p.scdn.co/mp3-preview/6f984c9c6e43eccb...</td>\n",
       "    </tr>\n",
       "    <tr>\n",
       "      <th>8</th>\n",
       "      <td>https://i.scdn.co/image/a350bd5b964f06fcf299d2...</td>\n",
       "      <td>None</td>\n",
       "    </tr>\n",
       "    <tr>\n",
       "      <th>1130</th>\n",
       "      <td>https://i.scdn.co/image/7af24a365c97ee0e55213a...</td>\n",
       "      <td>None</td>\n",
       "    </tr>\n",
       "    <tr>\n",
       "      <th>4191</th>\n",
       "      <td>https://i.scdn.co/image/6b743d95f5ea98fc26c1af...</td>\n",
       "      <td>None</td>\n",
       "    </tr>\n",
       "  </tbody>\n",
       "</table>\n",
       "</div>"
      ],
      "text/plain": [
       "                                  track_album_cover_art  \\\n",
       "4292  https://i.scdn.co/image/5026fddc6c0b69e931ae99...   \n",
       "8     https://i.scdn.co/image/a350bd5b964f06fcf299d2...   \n",
       "1130  https://i.scdn.co/image/7af24a365c97ee0e55213a...   \n",
       "4191  https://i.scdn.co/image/6b743d95f5ea98fc26c1af...   \n",
       "\n",
       "                                      track_preview_url  \n",
       "4292  https://p.scdn.co/mp3-preview/6f984c9c6e43eccb...  \n",
       "8                                                  None  \n",
       "1130                                               None  \n",
       "4191                                               None  "
      ]
     },
     "execution_count": 32,
     "metadata": {},
     "output_type": "execute_result"
    }
   ],
   "source": [
    "# pull track album url + track preview url (columns 14 + 17 of DataFrame df_final_set)\n",
    "df_final_set.iloc[[4292,8,1130,4191],[14,17]]"
   ]
  },
  {
   "cell_type": "code",
   "execution_count": null,
   "metadata": {},
   "outputs": [],
   "source": []
  },
  {
   "cell_type": "code",
   "execution_count": null,
   "metadata": {},
   "outputs": [],
   "source": []
  },
  {
   "cell_type": "markdown",
   "metadata": {},
   "source": [
    "# Use below space / code to work on Flask App\n",
    "- Refer to separate python file 'music_app.py' - functional code there"
   ]
  },
  {
   "cell_type": "markdown",
   "metadata": {},
   "source": [
    "## obtain user inputs and start searching for main artist info"
   ]
  },
  {
   "cell_type": "code",
   "execution_count": 65,
   "metadata": {},
   "outputs": [],
   "source": [
    "# user inputs\n",
    "artist = 'Adele'\n",
    "track = 'Hello'"
   ]
  },
  {
   "cell_type": "code",
   "execution_count": 66,
   "metadata": {},
   "outputs": [],
   "source": [
    "# pull features for song searched by user\n",
    "results = df_final_set[(df_final_set['artist']==artist) & (df_final_set['title']==track)] \\\n",
    "[['track_album_cover_art','track_preview_url','artist','title']].values"
   ]
  },
  {
   "cell_type": "code",
   "execution_count": 67,
   "metadata": {},
   "outputs": [],
   "source": [
    "# assign features to variables\n",
    "track_cover = results[0][0]\n",
    "track_preview = results[0][1]\n",
    "track_artist = results[0][2]\n",
    "track_title = results[0][3]"
   ]
  },
  {
   "cell_type": "code",
   "execution_count": 68,
   "metadata": {},
   "outputs": [],
   "source": [
    "# create temporary list with song features of interest\n",
    "temp_list = []\n",
    "temp_list.append(track_cover)\n",
    "temp_list.append(track_preview)\n",
    "temp_list.append(track_artist)\n",
    "temp_list.append(track_title)"
   ]
  },
  {
   "cell_type": "code",
   "execution_count": 70,
   "metadata": {},
   "outputs": [
    {
     "data": {
      "text/plain": [
       "['https://i.scdn.co/image/602102500b9cebde7559a5f9c16daaaef2846440',\n",
       " 'https://p.scdn.co/mp3-preview/0b90429fd554bad6785faa2b8931d613db4a0ee4?cid=39cc01d4b4a544ebad4e813e7190e606',\n",
       " 'Adele',\n",
       " 'Hello']"
      ]
     },
     "execution_count": 70,
     "metadata": {},
     "output_type": "execute_result"
    }
   ],
   "source": [
    "# print out results\n",
    "temp_list"
   ]
  },
  {
   "cell_type": "code",
   "execution_count": null,
   "metadata": {},
   "outputs": [],
   "source": []
  },
  {
   "cell_type": "markdown",
   "metadata": {},
   "source": [
    "## use previously-created Nearest Neighbor list 'closest_song_ex' to find similar songs"
   ]
  },
  {
   "cell_type": "code",
   "execution_count": 46,
   "metadata": {},
   "outputs": [],
   "source": [
    "artist = 'a-ha'\n",
    "track = 'Take On Me'"
   ]
  },
  {
   "cell_type": "code",
   "execution_count": 47,
   "metadata": {},
   "outputs": [],
   "source": [
    "# get song index of main song user searched\n",
    "song_index = df_final_set[(df_final_set['artist']==artist) & (df_final_set['title']==track)].index[0]"
   ]
  },
  {
   "cell_type": "code",
   "execution_count": 62,
   "metadata": {},
   "outputs": [],
   "source": [
    "# find similar songs\n",
    "close_songs = closest_song_ex[song_index][0][1:]"
   ]
  },
  {
   "cell_type": "code",
   "execution_count": 50,
   "metadata": {},
   "outputs": [
    {
     "name": "stdout",
     "output_type": "stream",
     "text": [
      "1385\n",
      "2384\n",
      "206\n",
      "2626\n"
     ]
    }
   ],
   "source": [
    "# print out song index of all similar songs\n",
    "for i in close_songs:\n",
    "    print(i)"
   ]
  },
  {
   "cell_type": "code",
   "execution_count": 51,
   "metadata": {},
   "outputs": [],
   "source": [
    "temp_list = []\n",
    "for i in close_songs:\n",
    "\n",
    "    track_details = df_final_set.iloc[i,][['track_album_cover_art','track_preview_url','artist','title','year', 'agg_genre','num_words','num_syllables','difficult_words','f_k_grade','sentiment_compound','tempo', 'acousticness','instrumentalness','loudness','speechiness','valence']]\n",
    "    \n",
    "    temp_list.append(track_details[4])\n",
    "    "
   ]
  },
  {
   "cell_type": "code",
   "execution_count": 52,
   "metadata": {},
   "outputs": [
    {
     "data": {
      "text/plain": [
       "[1980, 1993, 1959, 1997]"
      ]
     },
     "execution_count": 52,
     "metadata": {},
     "output_type": "execute_result"
    }
   ],
   "source": [
    "temp_list"
   ]
  },
  {
   "cell_type": "markdown",
   "metadata": {},
   "source": [
    "# helper function to look up details for each similar song\n",
    "- Function created using code from above"
   ]
  },
  {
   "cell_type": "code",
   "execution_count": 58,
   "metadata": {},
   "outputs": [],
   "source": [
    "def find_artists(artist,track):\n",
    "    \n",
    "    final_dict = {}\n",
    "    temp_list = []\n",
    "    counter = 0\n",
    "    \n",
    "    # first get details for main song\n",
    "    results = df_final_set[(df_final_set['artist']==artist) & (df_final_set['title']==track)] \\\n",
    "    [['track_album_cover_art','track_preview_url','artist','title']].values\n",
    "    \n",
    "    # store main song details into dictionary\n",
    "    track_cover = results[0][0]\n",
    "    track_preview = results[0][1]\n",
    "    track_artist = results[0][2]\n",
    "    track_title = results[0][3]\n",
    "    \n",
    "    temp_list.append(track_cover)\n",
    "    temp_list.append(track_preview)\n",
    "    temp_list.append(track_artist)\n",
    "    temp_list.append(track_title)\n",
    "    \n",
    "    final_dict[str(counter)] = temp_list\n",
    "    counter+=1\n",
    "    \n",
    "    # get song index of main song user searched\n",
    "    song_index = df_final_set[(df_final_set['artist']==artist) & (df_final_set['title']==track)].index[0]\n",
    "    \n",
    "    # find similar songs with nearest neighbor\n",
    "    close_songs = closest_song_ex[song_index][0][1:]\n",
    "    \n",
    "    # iterate through each similar track and gather details\n",
    "    for i in close_songs:\n",
    "        temp_list = []\n",
    "        track_details = df_final_set.iloc[i,][['track_album_cover_art','track_preview_url','artist','title']]\n",
    "        temp_list.append(track_details[0])\n",
    "        temp_list.append(track_details[1])\n",
    "        temp_list.append(track_details[2])\n",
    "        temp_list.append(track_details[3])\n",
    "        final_dict[str(counter)] = temp_list\n",
    "        counter += 1\n",
    "    \n",
    "    return final_dict"
   ]
  },
  {
   "cell_type": "code",
   "execution_count": 59,
   "metadata": {},
   "outputs": [],
   "source": [
    "artist = 'a-ha'\n",
    "track = 'Take On Me'"
   ]
  },
  {
   "cell_type": "code",
   "execution_count": 60,
   "metadata": {},
   "outputs": [],
   "source": [
    "rec_songs_list = find_artists(artist,track)"
   ]
  },
  {
   "cell_type": "code",
   "execution_count": 61,
   "metadata": {},
   "outputs": [
    {
     "data": {
      "text/plain": [
       "{'0': ['https://i.scdn.co/image/c41ae5b513a39d1c616c4c279ebe19981a3092f3',\n",
       "  'https://p.scdn.co/mp3-preview/0f980d0fac59f77123d0272b78bce97f1374d9e9?cid=39cc01d4b4a544ebad4e813e7190e606',\n",
       "  'a-ha',\n",
       "  'Take On Me'],\n",
       " '1': ['https://i.scdn.co/image/3606e581d251b1591ad9ac1bca34c4aecff72016',\n",
       "  None,\n",
       "  'Blondie',\n",
       "  'Call Me'],\n",
       " '2': ['https://i.scdn.co/image/9d31ca65b1360fd319d5f52cd7f15b0992b08c23',\n",
       "  'https://p.scdn.co/mp3-preview/5002e02aca86fdd65d4b6d9b0098001e44b3000a?cid=39cc01d4b4a544ebad4e813e7190e606',\n",
       "  'Michael Jackson',\n",
       "  'Will You Be There'],\n",
       " '3': ['https://i.scdn.co/image/7452533c56b1407b8ec9c25a85c22c2ad566044e',\n",
       "  'https://p.scdn.co/mp3-preview/542f104f37b855b572e37995d467cc73b7cdf1b5?cid=39cc01d4b4a544ebad4e813e7190e606',\n",
       "  'Jackie Wilson',\n",
       "  'Lonely Teardrops'],\n",
       " '4': ['https://i.scdn.co/image/c8347eed321b9927f38ab270992132c8f6461561',\n",
       "  'https://p.scdn.co/mp3-preview/77bbf1e3bc27bfe6339579f71fc0b612391aa5e3?cid=39cc01d4b4a544ebad4e813e7190e606',\n",
       "  'Mark Morrison',\n",
       "  'Return Of The Mack']}"
      ]
     },
     "execution_count": 61,
     "metadata": {},
     "output_type": "execute_result"
    }
   ],
   "source": [
    "rec_songs_list"
   ]
  },
  {
   "cell_type": "code",
   "execution_count": null,
   "metadata": {},
   "outputs": [],
   "source": []
  },
  {
   "cell_type": "code",
   "execution_count": null,
   "metadata": {},
   "outputs": [],
   "source": []
  },
  {
   "cell_type": "code",
   "execution_count": null,
   "metadata": {},
   "outputs": [],
   "source": []
  }
 ],
 "metadata": {
  "kernelspec": {
   "display_name": "Python 3",
   "language": "python",
   "name": "python3"
  },
  "language_info": {
   "codemirror_mode": {
    "name": "ipython",
    "version": 3
   },
   "file_extension": ".py",
   "mimetype": "text/x-python",
   "name": "python",
   "nbconvert_exporter": "python",
   "pygments_lexer": "ipython3",
   "version": "3.6.6"
  }
 },
 "nbformat": 4,
 "nbformat_minor": 2
}
